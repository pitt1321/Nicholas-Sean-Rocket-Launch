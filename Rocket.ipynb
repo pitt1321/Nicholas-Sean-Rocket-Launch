{
 "cells": [
  {
   "cell_type": "code",
   "execution_count": 1,
   "metadata": {
    "collapsed": false
   },
   "outputs": [
    {
     "name": "stdout",
     "output_type": "stream",
     "text": [
      "Max Height Drag: 25.9172619093\n",
      "Max Height No Drag: 41.9629699825\n",
      "Max Range Drag: 135.507455921\n",
      "Max Range No Drag: 286.703215501\n"
     ]
    },
    {
     "data": {
      "image/png": "[encoded data removed]",
      "text/plain": [
       "<matplotlib.figure.Figure at 0x1c15fd6ec18>"
      ]
     },
     "metadata": {},
     "output_type": "display_data"
    }
   ],
   "source": [
    "%matplotlib inline\n",
    "import matplotlib.pyplot as plt\n",
    "import numpy as np\n",
    "from scipy.integrate import odeint\n",
    "\n",
    "C_d = 0.5\n",
    "rho = 1.16\n",
    "m = 0.145\n",
    "r = 0.0366\n",
    "g = 9.8\n",
    "A = np.pi*0.0366**2\n",
    "\n",
    "b= 1/(2*m) * rho * A * C_d\n",
    "\n",
    "def y_acceleration(v_x, v_y, **kwargs):\n",
    "    return -g - b * np.sqrt(v_x**2 + v_y**2) * v_y\n",
    "\n",
    "def x_acceleration(v_x, v_y):\n",
    "    return -b * np.sqrt(v_x**2 + v_y**2) * v_x\n",
    "\n",
    "def F(r, t):\n",
    "    v_x, v_y = r[2], r[3]\n",
    "    a_x, a_y = x_acceleration(v_x, v_y), y_acceleration(v_x, v_y)\n",
    "    return np.array([v_x, v_y, a_x, a_y])\n",
    "\n",
    "\n",
    "T = np.linspace(0,7, 1000)\n",
    "r = np.array([0, 0, 50*np.cos(35*np.pi/180), 50*np.sin(35*np.pi/180)])\n",
    "\n",
    "data = odeint(F, r, T)\n",
    "X1, Y1, VX1, VY1 = data[:,0], data[:, 1], data[:,2], data[:,3]\n",
    "\n",
    "plt.plot(X1, Y1, label='Drag')\n",
    "plt.title('Trajectory')\n",
    "plt.xlabel('x (m)')\n",
    "plt.ylabel('y (m)')\n",
    "\n",
    "b = 0\n",
    "\n",
    "data = odeint(F, r, T)\n",
    "X2, Y2, VX2, VY2 = data[:,0], data[:, 1], data[:,2], data[:,3]\n",
    "\n",
    "plt.plot(X2, Y2, label='No Drag')\n",
    "plt.legend(loc='best')\n",
    "plt.ylim(0,60)\n",
    "\n",
    "print('Max Height Drag:', max(Y1))\n",
    "print('Max Height No Drag:', max(Y2))\n",
    "print('Max Range Drag:', max(X1))\n",
    "print('Max Range No Drag:', max(X2))"
   ]
  },
  {
   "cell_type": "code",
   "execution_count": 53,
   "metadata": {
    "collapsed": false
   },
   "outputs": [
    {
     "data": {
      "text/plain": [
       "0.2195858222883362"
      ]
     },
     "execution_count": 53,
     "metadata": {},
     "output_type": "execute_result"
    }
   ],
   "source": [
    "def g_acceleration(r):\n",
    "    '''Return the acceleration due to gravity at a distance r from earth.\n",
    "    \n",
    "    Parameters:\n",
    "    \n",
    "    r : radius (height) [m]\n",
    "    \n",
    "    Returns:\n",
    "    \n",
    "    g : acceleration due to gravity [m/s^2]'''\n",
    "    \n",
    "    G = 6.6742*10**-11 # gravitational constant, Nm^2/kg^2\n",
    "    M = 5.9722*10**24 # mass of earth, kg\n",
    "    R = 6371*10**3 # radius of earth, m\n",
    "    \n",
    "    g = G*M/(r + R)**2\n",
    "    return g\n",
    "\n",
    "def force_gravity(m, y):\n",
    "    '''Calculate the force of gravity on an object.\n",
    "    \n",
    "    Parameters:\n",
    "    \n",
    "    m : mass of object [kg]\n",
    "    h : height [m]\n",
    "    \n",
    "    returns:\n",
    "    \n",
    "    F_g : force due to gravity [N]'''\n",
    "    \n",
    "    F_g = m*g_acceleration(y)\n",
    "    return F_g\n",
    "\n",
    "def air_density(y):\n",
    "    '''Calculate (a close approximation of) the air density at a given \n",
    "    height.\n",
    "    \n",
    "    Parameters:\n",
    "    \n",
    "    y : height above sea level [m]\n",
    "    \n",
    "    Returns:\n",
    "    \n",
    "    rho : density at height h [kg/m^3]'''\n",
    "    \n",
    "    \n",
    "    rho_0 = 1.225 # sea level density, kg/m^3\n",
    "    L = 0.0065 # temperature lapse rate, K/m\n",
    "    # Temperature is obviously NOT constant and this is a simplification\n",
    "    T = 288.15 # temperature, K\n",
    "    M = 0.0289644 # molar mass of dry air, kg/mol\n",
    "    R = 8.31447 # ideal gas constant, J/(mol K)\n",
    "    g = g_acceleration(y) # acceleration due to gravity at height h [m/s^2]\n",
    "    \n",
    "    rho = rho_0 * np.exp(-g*M*y/(R*T))\n",
    "    return rho\n",
    "    \n",
    "    \n",
    "\n",
    "def force_drag(vx, vy, y, **kwargs):\n",
    "    '''Return the drag force the rocket experiences during flight.\n",
    "    \n",
    "    Parameters:\n",
    "    \n",
    "    vx : x velocity [m/s]\n",
    "    vy : y velocity [m/s]\n",
    "    h : height [m]\n",
    "    **kwargs : keyword arguments for cross-sectional area and drag coefficeint\n",
    "    \n",
    "    Returns:\n",
    "    \n",
    "    F_drag: force due to drag [N]'''\n",
    "    \n",
    "    rho = air_density(y)\n",
    "    b = 1/(2*m) * rho * A * C_d\n",
    "    \n",
    "    F_drag = b*(vx**2 + vy**2)\n",
    "    return F_drag\n",
    "    \n",
    "\n",
    "\n",
    "def test_drag_constant():\n",
    "    '''Return the drag force the rocket experiences during flight with constant air density.'''\n",
    "    pass\n",
    "    \n",
    "def test_drag_variable():\n",
    "    '''Return the drag force the rocket experiences during flight with changing air density'''\n",
    "    pass\n",
    "\n",
    "# TESTING!!!!!!!"
   ]
  },
  {
   "cell_type": "markdown",
   "metadata": {},
   "source": [
    "what is life"
   ]
  },
  {
   "cell_type": "markdown",
   "metadata": {},
   "source": []
  }
 ],
 "metadata": {
  "anaconda-cloud": {},
  "kernelspec": {
   "display_name": "Python [Root]",
   "language": "python",
   "name": "Python [Root]"
  },
  "language_info": {
   "codemirror_mode": {
    "name": "ipython",
    "version": 3
   },
   "file_extension": ".py",
   "mimetype": "text/x-python",
   "name": "python",
   "nbconvert_exporter": "python",
   "pygments_lexer": "ipython3",
   "version": "3.5.2"
  }
 },
 "nbformat": 4,
 "nbformat_minor": 0
}
